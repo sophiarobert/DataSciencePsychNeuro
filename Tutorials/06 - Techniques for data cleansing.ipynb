{
  "nbformat": 4,
  "nbformat_minor": 0,
  "metadata": {
    "colab": {
      "name": "06 - Techniques for data cleansing.ipynb",
      "provenance": [],
      "collapsed_sections": []
    },
    "kernelspec": {
      "display_name": "R",
      "language": "R",
      "name": "ir"
    },
    "language_info": {
      "codemirror_mode": "r",
      "file_extension": ".r",
      "mimetype": "text/x-r-source",
      "name": "R",
      "pygments_lexer": "r",
      "version": "3.6.2"
    }
  },
  "cells": [
    {
      "cell_type": "markdown",
      "metadata": {
        "id": "Ig5Hr5dD0ZAh"
      },
      "source": [
        "# Model objects"
      ]
    },
    {
      "cell_type": "markdown",
      "metadata": {
        "id": "raUZkQY20ZAh"
      },
      "source": [
        "In this tutorial, we'll talk about how to use \"model objects\" in R. Whenever you run a regression or any other type of model, the resulting model is saved in an object with properties you can access. This is handy for fitting a model once, and then referencing different aspects of that model's performance and fit. Let's see an example:"
      ]
    },
    {
      "cell_type": "code",
      "metadata": {
        "colab": {
          "base_uri": "https://localhost:8080/",
          "height": 1000
        },
        "id": "POfAYyZ60ZAh",
        "outputId": "6f3cc1c7-e71f-4dd1-b735-6015d289d5cf"
      },
      "source": [
        "library(tidyverse)\n",
        "\n",
        "# generate data where y is a function of two variables, x1 and x2\n",
        "x1 <- seq(-4,4,0.5) #generate data ranging from -4 to 4 in steps of 0.5\n",
        "x2 <- seq(-4,4,0.5)\n",
        "dat <- expand.grid(x1=x1, x2=x2)  %>% mutate(y = 1/(1+exp(-x1)) + 0.1*x2) #specify a sigmoidal relationship between x1 and y and a linear relationship between x2 and y\n",
        "dat"
      ],
      "execution_count": 2,
      "outputs": [
        {
          "output_type": "display_data",
          "data": {
            "text/plain": [
              "    x1   x2   y          \n",
              "1   -4.0 -4.0 -0.38201379\n",
              "2   -3.5 -4.0 -0.37068777\n",
              "3   -3.0 -4.0 -0.35257413\n",
              "4   -2.5 -4.0 -0.32414182\n",
              "5   -2.0 -4.0 -0.28079708\n",
              "6   -1.5 -4.0 -0.21757448\n",
              "7   -1.0 -4.0 -0.13105858\n",
              "8   -0.5 -4.0 -0.02245933\n",
              "9    0.0 -4.0  0.10000000\n",
              "10   0.5 -4.0  0.22245933\n",
              "11   1.0 -4.0  0.33105858\n",
              "12   1.5 -4.0  0.41757448\n",
              "13   2.0 -4.0  0.48079708\n",
              "14   2.5 -4.0  0.52414182\n",
              "15   3.0 -4.0  0.55257413\n",
              "16   3.5 -4.0  0.57068777\n",
              "17   4.0 -4.0  0.58201379\n",
              "18  -4.0 -3.5 -0.33201379\n",
              "19  -3.5 -3.5 -0.32068777\n",
              "20  -3.0 -3.5 -0.30257413\n",
              "21  -2.5 -3.5 -0.27414182\n",
              "22  -2.0 -3.5 -0.23079708\n",
              "23  -1.5 -3.5 -0.16757448\n",
              "24  -1.0 -3.5 -0.08105858\n",
              "25  -0.5 -3.5  0.02754067\n",
              "26   0.0 -3.5  0.15000000\n",
              "27   0.5 -3.5  0.27245933\n",
              "28   1.0 -3.5  0.38105858\n",
              "29   1.5 -3.5  0.46757448\n",
              "30   2.0 -3.5  0.53079708\n",
              "⋮   ⋮    ⋮    ⋮          \n",
              "260 -2.0 3.5  0.4692029  \n",
              "261 -1.5 3.5  0.5324255  \n",
              "262 -1.0 3.5  0.6189414  \n",
              "263 -0.5 3.5  0.7275407  \n",
              "264  0.0 3.5  0.8500000  \n",
              "265  0.5 3.5  0.9724593  \n",
              "266  1.0 3.5  1.0810586  \n",
              "267  1.5 3.5  1.1675745  \n",
              "268  2.0 3.5  1.2307971  \n",
              "269  2.5 3.5  1.2741418  \n",
              "270  3.0 3.5  1.3025741  \n",
              "271  3.5 3.5  1.3206878  \n",
              "272  4.0 3.5  1.3320138  \n",
              "273 -4.0 4.0  0.4179862  \n",
              "274 -3.5 4.0  0.4293122  \n",
              "275 -3.0 4.0  0.4474259  \n",
              "276 -2.5 4.0  0.4758582  \n",
              "277 -2.0 4.0  0.5192029  \n",
              "278 -1.5 4.0  0.5824255  \n",
              "279 -1.0 4.0  0.6689414  \n",
              "280 -0.5 4.0  0.7775407  \n",
              "281  0.0 4.0  0.9000000  \n",
              "282  0.5 4.0  1.0224593  \n",
              "283  1.0 4.0  1.1310586  \n",
              "284  1.5 4.0  1.2175745  \n",
              "285  2.0 4.0  1.2807971  \n",
              "286  2.5 4.0  1.3241418  \n",
              "287  3.0 4.0  1.3525741  \n",
              "288  3.5 4.0  1.3706878  \n",
              "289  4.0 4.0  1.3820138  "
            ],
            "text/latex": "A data.frame: 289 × 3\n\\begin{tabular}{lll}\n x1 & x2 & y\\\\\n <dbl> & <dbl> & <dbl>\\\\\n\\hline\n\t -4.0 & -4.0 & -0.38201379\\\\\n\t -3.5 & -4.0 & -0.37068777\\\\\n\t -3.0 & -4.0 & -0.35257413\\\\\n\t -2.5 & -4.0 & -0.32414182\\\\\n\t -2.0 & -4.0 & -0.28079708\\\\\n\t -1.5 & -4.0 & -0.21757448\\\\\n\t -1.0 & -4.0 & -0.13105858\\\\\n\t -0.5 & -4.0 & -0.02245933\\\\\n\t  0.0 & -4.0 &  0.10000000\\\\\n\t  0.5 & -4.0 &  0.22245933\\\\\n\t  1.0 & -4.0 &  0.33105858\\\\\n\t  1.5 & -4.0 &  0.41757448\\\\\n\t  2.0 & -4.0 &  0.48079708\\\\\n\t  2.5 & -4.0 &  0.52414182\\\\\n\t  3.0 & -4.0 &  0.55257413\\\\\n\t  3.5 & -4.0 &  0.57068777\\\\\n\t  4.0 & -4.0 &  0.58201379\\\\\n\t -4.0 & -3.5 & -0.33201379\\\\\n\t -3.5 & -3.5 & -0.32068777\\\\\n\t -3.0 & -3.5 & -0.30257413\\\\\n\t -2.5 & -3.5 & -0.27414182\\\\\n\t -2.0 & -3.5 & -0.23079708\\\\\n\t -1.5 & -3.5 & -0.16757448\\\\\n\t -1.0 & -3.5 & -0.08105858\\\\\n\t -0.5 & -3.5 &  0.02754067\\\\\n\t  0.0 & -3.5 &  0.15000000\\\\\n\t  0.5 & -3.5 &  0.27245933\\\\\n\t  1.0 & -3.5 &  0.38105858\\\\\n\t  1.5 & -3.5 &  0.46757448\\\\\n\t  2.0 & -3.5 &  0.53079708\\\\\n\t ⋮ & ⋮ & ⋮\\\\\n\t -2.0 & 3.5 & 0.4692029\\\\\n\t -1.5 & 3.5 & 0.5324255\\\\\n\t -1.0 & 3.5 & 0.6189414\\\\\n\t -0.5 & 3.5 & 0.7275407\\\\\n\t  0.0 & 3.5 & 0.8500000\\\\\n\t  0.5 & 3.5 & 0.9724593\\\\\n\t  1.0 & 3.5 & 1.0810586\\\\\n\t  1.5 & 3.5 & 1.1675745\\\\\n\t  2.0 & 3.5 & 1.2307971\\\\\n\t  2.5 & 3.5 & 1.2741418\\\\\n\t  3.0 & 3.5 & 1.3025741\\\\\n\t  3.5 & 3.5 & 1.3206878\\\\\n\t  4.0 & 3.5 & 1.3320138\\\\\n\t -4.0 & 4.0 & 0.4179862\\\\\n\t -3.5 & 4.0 & 0.4293122\\\\\n\t -3.0 & 4.0 & 0.4474259\\\\\n\t -2.5 & 4.0 & 0.4758582\\\\\n\t -2.0 & 4.0 & 0.5192029\\\\\n\t -1.5 & 4.0 & 0.5824255\\\\\n\t -1.0 & 4.0 & 0.6689414\\\\\n\t -0.5 & 4.0 & 0.7775407\\\\\n\t  0.0 & 4.0 & 0.9000000\\\\\n\t  0.5 & 4.0 & 1.0224593\\\\\n\t  1.0 & 4.0 & 1.1310586\\\\\n\t  1.5 & 4.0 & 1.2175745\\\\\n\t  2.0 & 4.0 & 1.2807971\\\\\n\t  2.5 & 4.0 & 1.3241418\\\\\n\t  3.0 & 4.0 & 1.3525741\\\\\n\t  3.5 & 4.0 & 1.3706878\\\\\n\t  4.0 & 4.0 & 1.3820138\\\\\n\\end{tabular}\n",
            "text/markdown": "\nA data.frame: 289 × 3\n\n| x1 &lt;dbl&gt; | x2 &lt;dbl&gt; | y &lt;dbl&gt; |\n|---|---|---|\n| -4.0 | -4.0 | -0.38201379 |\n| -3.5 | -4.0 | -0.37068777 |\n| -3.0 | -4.0 | -0.35257413 |\n| -2.5 | -4.0 | -0.32414182 |\n| -2.0 | -4.0 | -0.28079708 |\n| -1.5 | -4.0 | -0.21757448 |\n| -1.0 | -4.0 | -0.13105858 |\n| -0.5 | -4.0 | -0.02245933 |\n|  0.0 | -4.0 |  0.10000000 |\n|  0.5 | -4.0 |  0.22245933 |\n|  1.0 | -4.0 |  0.33105858 |\n|  1.5 | -4.0 |  0.41757448 |\n|  2.0 | -4.0 |  0.48079708 |\n|  2.5 | -4.0 |  0.52414182 |\n|  3.0 | -4.0 |  0.55257413 |\n|  3.5 | -4.0 |  0.57068777 |\n|  4.0 | -4.0 |  0.58201379 |\n| -4.0 | -3.5 | -0.33201379 |\n| -3.5 | -3.5 | -0.32068777 |\n| -3.0 | -3.5 | -0.30257413 |\n| -2.5 | -3.5 | -0.27414182 |\n| -2.0 | -3.5 | -0.23079708 |\n| -1.5 | -3.5 | -0.16757448 |\n| -1.0 | -3.5 | -0.08105858 |\n| -0.5 | -3.5 |  0.02754067 |\n|  0.0 | -3.5 |  0.15000000 |\n|  0.5 | -3.5 |  0.27245933 |\n|  1.0 | -3.5 |  0.38105858 |\n|  1.5 | -3.5 |  0.46757448 |\n|  2.0 | -3.5 |  0.53079708 |\n| ⋮ | ⋮ | ⋮ |\n| -2.0 | 3.5 | 0.4692029 |\n| -1.5 | 3.5 | 0.5324255 |\n| -1.0 | 3.5 | 0.6189414 |\n| -0.5 | 3.5 | 0.7275407 |\n|  0.0 | 3.5 | 0.8500000 |\n|  0.5 | 3.5 | 0.9724593 |\n|  1.0 | 3.5 | 1.0810586 |\n|  1.5 | 3.5 | 1.1675745 |\n|  2.0 | 3.5 | 1.2307971 |\n|  2.5 | 3.5 | 1.2741418 |\n|  3.0 | 3.5 | 1.3025741 |\n|  3.5 | 3.5 | 1.3206878 |\n|  4.0 | 3.5 | 1.3320138 |\n| -4.0 | 4.0 | 0.4179862 |\n| -3.5 | 4.0 | 0.4293122 |\n| -3.0 | 4.0 | 0.4474259 |\n| -2.5 | 4.0 | 0.4758582 |\n| -2.0 | 4.0 | 0.5192029 |\n| -1.5 | 4.0 | 0.5824255 |\n| -1.0 | 4.0 | 0.6689414 |\n| -0.5 | 4.0 | 0.7775407 |\n|  0.0 | 4.0 | 0.9000000 |\n|  0.5 | 4.0 | 1.0224593 |\n|  1.0 | 4.0 | 1.1310586 |\n|  1.5 | 4.0 | 1.2175745 |\n|  2.0 | 4.0 | 1.2807971 |\n|  2.5 | 4.0 | 1.3241418 |\n|  3.0 | 4.0 | 1.3525741 |\n|  3.5 | 4.0 | 1.3706878 |\n|  4.0 | 4.0 | 1.3820138 |\n\n",
            "text/html": [
              "<table class=\"dataframe\">\n",
              "<caption>A data.frame: 289 × 3</caption>\n",
              "<thead>\n",
              "\t<tr><th scope=col>x1</th><th scope=col>x2</th><th scope=col>y</th></tr>\n",
              "\t<tr><th scope=col>&lt;dbl&gt;</th><th scope=col>&lt;dbl&gt;</th><th scope=col>&lt;dbl&gt;</th></tr>\n",
              "</thead>\n",
              "<tbody>\n",
              "\t<tr><td>-4.0</td><td>-4.0</td><td>-0.38201379</td></tr>\n",
              "\t<tr><td>-3.5</td><td>-4.0</td><td>-0.37068777</td></tr>\n",
              "\t<tr><td>-3.0</td><td>-4.0</td><td>-0.35257413</td></tr>\n",
              "\t<tr><td>-2.5</td><td>-4.0</td><td>-0.32414182</td></tr>\n",
              "\t<tr><td>-2.0</td><td>-4.0</td><td>-0.28079708</td></tr>\n",
              "\t<tr><td>-1.5</td><td>-4.0</td><td>-0.21757448</td></tr>\n",
              "\t<tr><td>-1.0</td><td>-4.0</td><td>-0.13105858</td></tr>\n",
              "\t<tr><td>-0.5</td><td>-4.0</td><td>-0.02245933</td></tr>\n",
              "\t<tr><td> 0.0</td><td>-4.0</td><td> 0.10000000</td></tr>\n",
              "\t<tr><td> 0.5</td><td>-4.0</td><td> 0.22245933</td></tr>\n",
              "\t<tr><td> 1.0</td><td>-4.0</td><td> 0.33105858</td></tr>\n",
              "\t<tr><td> 1.5</td><td>-4.0</td><td> 0.41757448</td></tr>\n",
              "\t<tr><td> 2.0</td><td>-4.0</td><td> 0.48079708</td></tr>\n",
              "\t<tr><td> 2.5</td><td>-4.0</td><td> 0.52414182</td></tr>\n",
              "\t<tr><td> 3.0</td><td>-4.0</td><td> 0.55257413</td></tr>\n",
              "\t<tr><td> 3.5</td><td>-4.0</td><td> 0.57068777</td></tr>\n",
              "\t<tr><td> 4.0</td><td>-4.0</td><td> 0.58201379</td></tr>\n",
              "\t<tr><td>-4.0</td><td>-3.5</td><td>-0.33201379</td></tr>\n",
              "\t<tr><td>-3.5</td><td>-3.5</td><td>-0.32068777</td></tr>\n",
              "\t<tr><td>-3.0</td><td>-3.5</td><td>-0.30257413</td></tr>\n",
              "\t<tr><td>-2.5</td><td>-3.5</td><td>-0.27414182</td></tr>\n",
              "\t<tr><td>-2.0</td><td>-3.5</td><td>-0.23079708</td></tr>\n",
              "\t<tr><td>-1.5</td><td>-3.5</td><td>-0.16757448</td></tr>\n",
              "\t<tr><td>-1.0</td><td>-3.5</td><td>-0.08105858</td></tr>\n",
              "\t<tr><td>-0.5</td><td>-3.5</td><td> 0.02754067</td></tr>\n",
              "\t<tr><td> 0.0</td><td>-3.5</td><td> 0.15000000</td></tr>\n",
              "\t<tr><td> 0.5</td><td>-3.5</td><td> 0.27245933</td></tr>\n",
              "\t<tr><td> 1.0</td><td>-3.5</td><td> 0.38105858</td></tr>\n",
              "\t<tr><td> 1.5</td><td>-3.5</td><td> 0.46757448</td></tr>\n",
              "\t<tr><td> 2.0</td><td>-3.5</td><td> 0.53079708</td></tr>\n",
              "\t<tr><td>⋮</td><td>⋮</td><td>⋮</td></tr>\n",
              "\t<tr><td>-2.0</td><td>3.5</td><td>0.4692029</td></tr>\n",
              "\t<tr><td>-1.5</td><td>3.5</td><td>0.5324255</td></tr>\n",
              "\t<tr><td>-1.0</td><td>3.5</td><td>0.6189414</td></tr>\n",
              "\t<tr><td>-0.5</td><td>3.5</td><td>0.7275407</td></tr>\n",
              "\t<tr><td> 0.0</td><td>3.5</td><td>0.8500000</td></tr>\n",
              "\t<tr><td> 0.5</td><td>3.5</td><td>0.9724593</td></tr>\n",
              "\t<tr><td> 1.0</td><td>3.5</td><td>1.0810586</td></tr>\n",
              "\t<tr><td> 1.5</td><td>3.5</td><td>1.1675745</td></tr>\n",
              "\t<tr><td> 2.0</td><td>3.5</td><td>1.2307971</td></tr>\n",
              "\t<tr><td> 2.5</td><td>3.5</td><td>1.2741418</td></tr>\n",
              "\t<tr><td> 3.0</td><td>3.5</td><td>1.3025741</td></tr>\n",
              "\t<tr><td> 3.5</td><td>3.5</td><td>1.3206878</td></tr>\n",
              "\t<tr><td> 4.0</td><td>3.5</td><td>1.3320138</td></tr>\n",
              "\t<tr><td>-4.0</td><td>4.0</td><td>0.4179862</td></tr>\n",
              "\t<tr><td>-3.5</td><td>4.0</td><td>0.4293122</td></tr>\n",
              "\t<tr><td>-3.0</td><td>4.0</td><td>0.4474259</td></tr>\n",
              "\t<tr><td>-2.5</td><td>4.0</td><td>0.4758582</td></tr>\n",
              "\t<tr><td>-2.0</td><td>4.0</td><td>0.5192029</td></tr>\n",
              "\t<tr><td>-1.5</td><td>4.0</td><td>0.5824255</td></tr>\n",
              "\t<tr><td>-1.0</td><td>4.0</td><td>0.6689414</td></tr>\n",
              "\t<tr><td>-0.5</td><td>4.0</td><td>0.7775407</td></tr>\n",
              "\t<tr><td> 0.0</td><td>4.0</td><td>0.9000000</td></tr>\n",
              "\t<tr><td> 0.5</td><td>4.0</td><td>1.0224593</td></tr>\n",
              "\t<tr><td> 1.0</td><td>4.0</td><td>1.1310586</td></tr>\n",
              "\t<tr><td> 1.5</td><td>4.0</td><td>1.2175745</td></tr>\n",
              "\t<tr><td> 2.0</td><td>4.0</td><td>1.2807971</td></tr>\n",
              "\t<tr><td> 2.5</td><td>4.0</td><td>1.3241418</td></tr>\n",
              "\t<tr><td> 3.0</td><td>4.0</td><td>1.3525741</td></tr>\n",
              "\t<tr><td> 3.5</td><td>4.0</td><td>1.3706878</td></tr>\n",
              "\t<tr><td> 4.0</td><td>4.0</td><td>1.3820138</td></tr>\n",
              "</tbody>\n",
              "</table>\n"
            ]
          },
          "metadata": {
            "tags": []
          }
        }
      ]
    },
    {
      "cell_type": "markdown",
      "metadata": {
        "id": "DGOIFowS0ZAi"
      },
      "source": [
        "Here is how y depends on x1 and x2:"
      ]
    },
    {
      "cell_type": "code",
      "metadata": {
        "colab": {
          "base_uri": "https://localhost:8080/",
          "height": 257
        },
        "id": "eK7wZzTg0ZAi",
        "outputId": "ebcd1f86-f15e-4689-cf01-da3fb42ab5d8"
      },
      "source": [
        "options(repr.plot.width=6, repr.plot.height=4)\n",
        "dat  %>%\n",
        "    gather(var, value, x1, x2)  %>% # make it long format - only x1 or x2 in each row\n",
        "    ggplot(aes(value, y)) +\n",
        "    stat_summary(geom='point',fun=mean) +\n",
        "    stat_summary(geom='line',fun=mean) +\n",
        "    facet_wrap(~var)"
      ],
      "execution_count": 3,
      "outputs": [
        {
          "output_type": "display_data",
          "data": {
            "image/png": "[encoded data removed]",
            "text/plain": [
              "plot without title"
            ]
          },
          "metadata": {
            "tags": [],
            "image/png": {
              "width": 360,
              "height": 240
            }
          }
        }
      ]
    },
    {
      "cell_type": "markdown",
      "metadata": {
        "id": "yZHaRzcg0ZAi"
      },
      "source": [
        "Now, let's add some noise and try to fit a regression model"
      ]
    },
    {
      "cell_type": "code",
      "metadata": {
        "id": "P9Wet_zl0ZAi"
      },
      "source": [
        "dat <- mutate(dat, y_obs = y + rnorm(length(y), mean=0, sd=0.1)) #add normally distributed noise\n",
        "model_fit <- lm(y_obs ~ x1 + x2, data=dat) #fit a linear model to find the regression coeff."
      ],
      "execution_count": 4,
      "outputs": []
    },
    {
      "cell_type": "markdown",
      "metadata": {
        "id": "0KkyK-Kd0ZAi"
      },
      "source": [
        "The resulting model is save in the `model_fit` variable. This is the \"model object\", and you can do a number of things with it. First, the `str` command, which is a general function for printing the structure of r objects, will tell you what you can find in the model object. As you can see below, it is a list of different variables, which you can access by typing the name of the model, followed by `$variable`."
      ]
    },
    {
      "cell_type": "code",
      "metadata": {
        "colab": {
          "base_uri": "https://localhost:8080/"
        },
        "id": "ho58svUp0ZAi",
        "outputId": "64437f59-f7d3-4002-a48a-8f776075feb4"
      },
      "source": [
        "str(model_fit) #print the structure of the model object"
      ],
      "execution_count": 5,
      "outputs": [
        {
          "output_type": "stream",
          "text": [
            "List of 12\n",
            " $ coefficients : Named num [1:3] 0.511 0.145 0.102\n",
            "  ..- attr(*, \"names\")= chr [1:3] \"(Intercept)\" \"x1\" \"x2\"\n",
            " $ residuals    : Named num [1:289] 0.1311 -0.0505 0.0208 -0.0417 -0.1514 ...\n",
            "  ..- attr(*, \"names\")= chr [1:289] \"1\" \"2\" \"3\" \"4\" ...\n",
            " $ effects      : Named num [1:289] -8.6904 6.0562 4.2673 -0.0474 -0.1577 ...\n",
            "  ..- attr(*, \"names\")= chr [1:289] \"(Intercept)\" \"x1\" \"x2\" \"\" ...\n",
            " $ rank         : int 3\n",
            " $ fitted.values: Named num [1:289] -0.48 -0.408 -0.335 -0.262 -0.19 ...\n",
            "  ..- attr(*, \"names\")= chr [1:289] \"1\" \"2\" \"3\" \"4\" ...\n",
            " $ assign       : int [1:3] 0 1 2\n",
            " $ qr           :List of 5\n",
            "  ..$ qr   : num [1:289, 1:3] -17 0.0588 0.0588 0.0588 0.0588 ...\n",
            "  .. ..- attr(*, \"dimnames\")=List of 2\n",
            "  .. .. ..$ : chr [1:289] \"1\" \"2\" \"3\" \"4\" ...\n",
            "  .. .. ..$ : chr [1:3] \"(Intercept)\" \"x1\" \"x2\"\n",
            "  .. ..- attr(*, \"assign\")= int [1:3] 0 1 2\n",
            "  ..$ qraux: num [1:3] 1.06 1.08 1.09\n",
            "  ..$ pivot: int [1:3] 1 2 3\n",
            "  ..$ tol  : num 1e-07\n",
            "  ..$ rank : int 3\n",
            "  ..- attr(*, \"class\")= chr \"qr\"\n",
            " $ df.residual  : int 286\n",
            " $ xlevels      : Named list()\n",
            " $ call         : language lm(formula = y_obs ~ x1 + x2, data = dat)\n",
            " $ terms        :Classes 'terms', 'formula'  language y_obs ~ x1 + x2\n",
            "  .. ..- attr(*, \"variables\")= language list(y_obs, x1, x2)\n",
            "  .. ..- attr(*, \"factors\")= int [1:3, 1:2] 0 1 0 0 0 1\n",
            "  .. .. ..- attr(*, \"dimnames\")=List of 2\n",
            "  .. .. .. ..$ : chr [1:3] \"y_obs\" \"x1\" \"x2\"\n",
            "  .. .. .. ..$ : chr [1:2] \"x1\" \"x2\"\n",
            "  .. ..- attr(*, \"term.labels\")= chr [1:2] \"x1\" \"x2\"\n",
            "  .. ..- attr(*, \"order\")= int [1:2] 1 1\n",
            "  .. ..- attr(*, \"intercept\")= int 1\n",
            "  .. ..- attr(*, \"response\")= int 1\n",
            "  .. ..- attr(*, \".Environment\")=<environment: R_GlobalEnv> \n",
            "  .. ..- attr(*, \"predvars\")= language list(y_obs, x1, x2)\n",
            "  .. ..- attr(*, \"dataClasses\")= Named chr [1:3] \"numeric\" \"numeric\" \"numeric\"\n",
            "  .. .. ..- attr(*, \"names\")= chr [1:3] \"y_obs\" \"x1\" \"x2\"\n",
            " $ model        :'data.frame':\t289 obs. of  3 variables:\n",
            "  ..$ y_obs: num [1:289] -0.349 -0.458 -0.314 -0.304 -0.341 ...\n",
            "  ..$ x1   : num [1:289] -4 -3.5 -3 -2.5 -2 -1.5 -1 -0.5 0 0.5 ...\n",
            "  ..$ x2   : num [1:289] -4 -4 -4 -4 -4 -4 -4 -4 -4 -4 ...\n",
            "  ..- attr(*, \"terms\")=Classes 'terms', 'formula'  language y_obs ~ x1 + x2\n",
            "  .. .. ..- attr(*, \"variables\")= language list(y_obs, x1, x2)\n",
            "  .. .. ..- attr(*, \"factors\")= int [1:3, 1:2] 0 1 0 0 0 1\n",
            "  .. .. .. ..- attr(*, \"dimnames\")=List of 2\n",
            "  .. .. .. .. ..$ : chr [1:3] \"y_obs\" \"x1\" \"x2\"\n",
            "  .. .. .. .. ..$ : chr [1:2] \"x1\" \"x2\"\n",
            "  .. .. ..- attr(*, \"term.labels\")= chr [1:2] \"x1\" \"x2\"\n",
            "  .. .. ..- attr(*, \"order\")= int [1:2] 1 1\n",
            "  .. .. ..- attr(*, \"intercept\")= int 1\n",
            "  .. .. ..- attr(*, \"response\")= int 1\n",
            "  .. .. ..- attr(*, \".Environment\")=<environment: R_GlobalEnv> \n",
            "  .. .. ..- attr(*, \"predvars\")= language list(y_obs, x1, x2)\n",
            "  .. .. ..- attr(*, \"dataClasses\")= Named chr [1:3] \"numeric\" \"numeric\" \"numeric\"\n",
            "  .. .. .. ..- attr(*, \"names\")= chr [1:3] \"y_obs\" \"x1\" \"x2\"\n",
            " - attr(*, \"class\")= chr \"lm\"\n"
          ],
          "name": "stdout"
        }
      ]
    },
    {
      "cell_type": "markdown",
      "metadata": {
        "id": "zgkM2poe0ZAj"
      },
      "source": [
        "For example, if we want to extract the estimated regression coefficients, we can type this, which returns a named vector."
      ]
    },
    {
      "cell_type": "code",
      "metadata": {
        "colab": {
          "base_uri": "https://localhost:8080/",
          "height": 34
        },
        "id": "eSP2I1iD0ZAj",
        "outputId": "20ef6f48-058b-4fbd-cc5c-ae225b92bf7c"
      },
      "source": [
        "model_fit$coefficients"
      ],
      "execution_count": 6,
      "outputs": [
        {
          "output_type": "display_data",
          "data": {
            "text/plain": [
              "(Intercept)          x1          x2 \n",
              "  0.5112002   0.1454372   0.1024783 "
            ],
            "text/latex": "\\begin{description*}\n\\item[(Intercept)] 0.511200158832918\n\\item[x1] 0.145437204669083\n\\item[x2] 0.102478298258686\n\\end{description*}\n",
            "text/markdown": "(Intercept)\n:   0.511200158832918x1\n:   0.145437204669083x2\n:   0.102478298258686\n\n",
            "text/html": [
              "<style>\n",
              ".dl-inline {width: auto; margin:0; padding: 0}\n",
              ".dl-inline>dt, .dl-inline>dd {float: none; width: auto; display: inline-block}\n",
              ".dl-inline>dt::after {content: \":\\0020\"; padding-right: .5ex}\n",
              ".dl-inline>dt:not(:first-of-type) {padding-left: .5ex}\n",
              "</style><dl class=dl-inline><dt>(Intercept)</dt><dd>0.511200158832918</dd><dt>x1</dt><dd>0.145437204669083</dd><dt>x2</dt><dd>0.102478298258686</dd></dl>\n"
            ]
          },
          "metadata": {
            "tags": []
          }
        }
      ]
    },
    {
      "cell_type": "markdown",
      "metadata": {
        "id": "T18PjuC80ZAj"
      },
      "source": [
        "If we run multiple models, we might want to store these values in a data.frame, rather than a named vector like this:"
      ]
    },
    {
      "cell_type": "code",
      "metadata": {
        "colab": {
          "base_uri": "https://localhost:8080/",
          "height": 190
        },
        "id": "RifpOV1b0ZAj",
        "outputId": "79c4bf3d-4add-47ac-bbd3-f832b8325ab8"
      },
      "source": [
        "coef <- model_fit$coefficients #store the coefficients in a variable\n",
        "data.frame(name = names(coef), value = coef) #save the name/value of the coefficients in a df"
      ],
      "execution_count": 7,
      "outputs": [
        {
          "output_type": "display_data",
          "data": {
            "text/plain": [
              "            name        value    \n",
              "(Intercept) (Intercept) 0.5112002\n",
              "x1          x1          0.1454372\n",
              "x2          x2          0.1024783"
            ],
            "text/latex": "A data.frame: 3 × 2\n\\begin{tabular}{r|ll}\n  & name & value\\\\\n  & <chr> & <dbl>\\\\\n\\hline\n\t(Intercept) & (Intercept) & 0.5112002\\\\\n\tx1 & x1          & 0.1454372\\\\\n\tx2 & x2          & 0.1024783\\\\\n\\end{tabular}\n",
            "text/markdown": "\nA data.frame: 3 × 2\n\n| <!--/--> | name &lt;chr&gt; | value &lt;dbl&gt; |\n|---|---|---|\n| (Intercept) | (Intercept) | 0.5112002 |\n| x1 | x1          | 0.1454372 |\n| x2 | x2          | 0.1024783 |\n\n",
            "text/html": [
              "<table class=\"dataframe\">\n",
              "<caption>A data.frame: 3 × 2</caption>\n",
              "<thead>\n",
              "\t<tr><th></th><th scope=col>name</th><th scope=col>value</th></tr>\n",
              "\t<tr><th></th><th scope=col>&lt;chr&gt;</th><th scope=col>&lt;dbl&gt;</th></tr>\n",
              "</thead>\n",
              "<tbody>\n",
              "\t<tr><th scope=row>(Intercept)</th><td>(Intercept)</td><td>0.5112002</td></tr>\n",
              "\t<tr><th scope=row>x1</th><td>x1         </td><td>0.1454372</td></tr>\n",
              "\t<tr><th scope=row>x2</th><td>x2         </td><td>0.1024783</td></tr>\n",
              "</tbody>\n",
              "</table>\n"
            ]
          },
          "metadata": {
            "tags": []
          }
        }
      ]
    },
    {
      "cell_type": "markdown",
      "metadata": {
        "id": "AbWkCc8P0ZAj"
      },
      "source": [
        "You can extract the prediction of the model. They are stored under `$fitted.values`, or you can also get them by typing `fitted(model_fit)`, which returns the same values. Then, we can plot the observed values against the predicted values:"
      ]
    },
    {
      "cell_type": "code",
      "metadata": {
        "colab": {
          "base_uri": "https://localhost:8080/",
          "height": 257
        },
        "id": "xaG8BE1u0ZAj",
        "outputId": "a5bf7320-0b6d-4383-a8ad-0d96ea1279f6"
      },
      "source": [
        "dat$fitted <- model_fit$fitted.values #extract model estimate of y for each x and store in df as fitted\n",
        "ggplot(dat, aes(fitted, y_obs)) + #plot against the observed data \n",
        "    stat_summary(geom='point',fun=mean)"
      ],
      "execution_count": 8,
      "outputs": [
        {
          "output_type": "display_data",
          "data": {
            "image/png": "[encoded data removed]",
            "text/plain": [
              "plot without title"
            ]
          },
          "metadata": {
            "tags": [],
            "image/png": {
              "width": 360,
              "height": 240
            }
          }
        }
      ]
    },
    {
      "cell_type": "code",
      "metadata": {
        "colab": {
          "base_uri": "https://localhost:8080/",
          "height": 283
        },
        "id": "HmA3jL8R0ZAk",
        "outputId": "c05650cb-8696-41a0-e69b-80955a0b40fc"
      },
      "source": [
        "head(dat) #dataframe for fitted and obs. values. "
      ],
      "execution_count": 9,
      "outputs": [
        {
          "output_type": "display_data",
          "data": {
            "text/plain": [
              "  x1   x2 y          y_obs      fitted    \n",
              "1 -4.0 -4 -0.3820138 -0.3494054 -0.4804619\n",
              "2 -3.5 -4 -0.3706878 -0.4582368 -0.4077433\n",
              "3 -3.0 -4 -0.3525741 -0.3142294 -0.3350246\n",
              "4 -2.5 -4 -0.3241418 -0.3039880 -0.2623060\n",
              "5 -2.0 -4 -0.2807971 -0.3409670 -0.1895874\n",
              "6 -1.5 -4 -0.2175745 -0.2398397 -0.1168688"
            ],
            "text/latex": "A data.frame: 6 × 5\n\\begin{tabular}{r|lllll}\n  & x1 & x2 & y & y\\_obs & fitted\\\\\n  & <dbl> & <dbl> & <dbl> & <dbl> & <dbl>\\\\\n\\hline\n\t1 & -4.0 & -4 & -0.3820138 & -0.3494054 & -0.4804619\\\\\n\t2 & -3.5 & -4 & -0.3706878 & -0.4582368 & -0.4077433\\\\\n\t3 & -3.0 & -4 & -0.3525741 & -0.3142294 & -0.3350246\\\\\n\t4 & -2.5 & -4 & -0.3241418 & -0.3039880 & -0.2623060\\\\\n\t5 & -2.0 & -4 & -0.2807971 & -0.3409670 & -0.1895874\\\\\n\t6 & -1.5 & -4 & -0.2175745 & -0.2398397 & -0.1168688\\\\\n\\end{tabular}\n",
            "text/markdown": "\nA data.frame: 6 × 5\n\n| <!--/--> | x1 &lt;dbl&gt; | x2 &lt;dbl&gt; | y &lt;dbl&gt; | y_obs &lt;dbl&gt; | fitted &lt;dbl&gt; |\n|---|---|---|---|---|---|\n| 1 | -4.0 | -4 | -0.3820138 | -0.3494054 | -0.4804619 |\n| 2 | -3.5 | -4 | -0.3706878 | -0.4582368 | -0.4077433 |\n| 3 | -3.0 | -4 | -0.3525741 | -0.3142294 | -0.3350246 |\n| 4 | -2.5 | -4 | -0.3241418 | -0.3039880 | -0.2623060 |\n| 5 | -2.0 | -4 | -0.2807971 | -0.3409670 | -0.1895874 |\n| 6 | -1.5 | -4 | -0.2175745 | -0.2398397 | -0.1168688 |\n\n",
            "text/html": [
              "<table class=\"dataframe\">\n",
              "<caption>A data.frame: 6 × 5</caption>\n",
              "<thead>\n",
              "\t<tr><th></th><th scope=col>x1</th><th scope=col>x2</th><th scope=col>y</th><th scope=col>y_obs</th><th scope=col>fitted</th></tr>\n",
              "\t<tr><th></th><th scope=col>&lt;dbl&gt;</th><th scope=col>&lt;dbl&gt;</th><th scope=col>&lt;dbl&gt;</th><th scope=col>&lt;dbl&gt;</th><th scope=col>&lt;dbl&gt;</th></tr>\n",
              "</thead>\n",
              "<tbody>\n",
              "\t<tr><th scope=row>1</th><td>-4.0</td><td>-4</td><td>-0.3820138</td><td>-0.3494054</td><td>-0.4804619</td></tr>\n",
              "\t<tr><th scope=row>2</th><td>-3.5</td><td>-4</td><td>-0.3706878</td><td>-0.4582368</td><td>-0.4077433</td></tr>\n",
              "\t<tr><th scope=row>3</th><td>-3.0</td><td>-4</td><td>-0.3525741</td><td>-0.3142294</td><td>-0.3350246</td></tr>\n",
              "\t<tr><th scope=row>4</th><td>-2.5</td><td>-4</td><td>-0.3241418</td><td>-0.3039880</td><td>-0.2623060</td></tr>\n",
              "\t<tr><th scope=row>5</th><td>-2.0</td><td>-4</td><td>-0.2807971</td><td>-0.3409670</td><td>-0.1895874</td></tr>\n",
              "\t<tr><th scope=row>6</th><td>-1.5</td><td>-4</td><td>-0.2175745</td><td>-0.2398397</td><td>-0.1168688</td></tr>\n",
              "</tbody>\n",
              "</table>\n"
            ]
          },
          "metadata": {
            "tags": []
          }
        }
      ]
    },
    {
      "cell_type": "markdown",
      "metadata": {
        "id": "222zspi80ZAk"
      },
      "source": [
        "Given your fitted model, you can also easily generate predictions of y given new values of x using the `predict` function: "
      ]
    },
    {
      "cell_type": "code",
      "metadata": {
        "colab": {
          "base_uri": "https://localhost:8080/",
          "height": 34
        },
        "id": "2ajyC3eS0ZAk",
        "outputId": "b773b573-08c9-4927-d91c-b8c0d7b704fc"
      },
      "source": [
        "new_data <- data.frame(x1=-5, x2=10) #new x-values to give to the model \n",
        "predict(model_fit, newdata = new_data) #predict the y value for a given x "
      ],
      "execution_count": 10,
      "outputs": [
        {
          "output_type": "display_data",
          "data": {
            "text/plain": [
              "        1 \n",
              "0.8087971 "
            ],
            "text/latex": "\\textbf{1:} 0.808797118074362",
            "text/markdown": "**1:** 0.808797118074362",
            "text/html": [
              "<strong>1:</strong> 0.808797118074362"
            ]
          },
          "metadata": {
            "tags": []
          }
        }
      ]
    },
    {
      "cell_type": "markdown",
      "metadata": {
        "id": "2VrX-f-A0ZAk"
      },
      "source": [
        "This is where the fun part comes in. You can use the `nest` and `map` commands from `tidyverse` to fit a model for different subgroups, then extract the results of all models. Let's pretend that x1 is the participant number and we have different subjects, for which we have y and x2 values.\n",
        "\n",
        "First, nest creates a nested data.frame, in which the data.frame for each group is stored in a different cell"
      ]
    },
    {
      "cell_type": "code",
      "metadata": {
        "colab": {
          "base_uri": "https://localhost:8080/"
        },
        "id": "pN3moNim0ZAl",
        "outputId": "35a2ba3f-cb25-4001-bd32-72ca24250134"
      },
      "source": [
        "dat  %>%\n",
        "    group_by(x1) %>% \n",
        "    nest() %>%\n",
        "    print()"
      ],
      "execution_count": 11,
      "outputs": [
        {
          "output_type": "stream",
          "text": [
            "\u001b[90m# A tibble: 17 x 2\u001b[39m\n",
            "\u001b[90m# Groups:   x1 [17]\u001b[39m\n",
            "      x1 data             \n",
            "   \u001b[3m\u001b[90m<dbl>\u001b[39m\u001b[23m \u001b[3m\u001b[90m<list>\u001b[39m\u001b[23m           \n",
            "\u001b[90m 1\u001b[39m  -\u001b[31m4\u001b[39m   \u001b[90m<tibble [17 × 4]>\u001b[39m\n",
            "\u001b[90m 2\u001b[39m  -\u001b[31m3\u001b[39m\u001b[31m.\u001b[39m\u001b[31m5\u001b[39m \u001b[90m<tibble [17 × 4]>\u001b[39m\n",
            "\u001b[90m 3\u001b[39m  -\u001b[31m3\u001b[39m   \u001b[90m<tibble [17 × 4]>\u001b[39m\n",
            "\u001b[90m 4\u001b[39m  -\u001b[31m2\u001b[39m\u001b[31m.\u001b[39m\u001b[31m5\u001b[39m \u001b[90m<tibble [17 × 4]>\u001b[39m\n",
            "\u001b[90m 5\u001b[39m  -\u001b[31m2\u001b[39m   \u001b[90m<tibble [17 × 4]>\u001b[39m\n",
            "\u001b[90m 6\u001b[39m  -\u001b[31m1\u001b[39m\u001b[31m.\u001b[39m\u001b[31m5\u001b[39m \u001b[90m<tibble [17 × 4]>\u001b[39m\n",
            "\u001b[90m 7\u001b[39m  -\u001b[31m1\u001b[39m   \u001b[90m<tibble [17 × 4]>\u001b[39m\n",
            "\u001b[90m 8\u001b[39m  -\u001b[31m0\u001b[39m\u001b[31m.\u001b[39m\u001b[31m5\u001b[39m \u001b[90m<tibble [17 × 4]>\u001b[39m\n",
            "\u001b[90m 9\u001b[39m   0   \u001b[90m<tibble [17 × 4]>\u001b[39m\n",
            "\u001b[90m10\u001b[39m   0.5 \u001b[90m<tibble [17 × 4]>\u001b[39m\n",
            "\u001b[90m11\u001b[39m   1   \u001b[90m<tibble [17 × 4]>\u001b[39m\n",
            "\u001b[90m12\u001b[39m   1.5 \u001b[90m<tibble [17 × 4]>\u001b[39m\n",
            "\u001b[90m13\u001b[39m   2   \u001b[90m<tibble [17 × 4]>\u001b[39m\n",
            "\u001b[90m14\u001b[39m   2.5 \u001b[90m<tibble [17 × 4]>\u001b[39m\n",
            "\u001b[90m15\u001b[39m   3   \u001b[90m<tibble [17 × 4]>\u001b[39m\n",
            "\u001b[90m16\u001b[39m   3.5 \u001b[90m<tibble [17 × 4]>\u001b[39m\n",
            "\u001b[90m17\u001b[39m   4   \u001b[90m<tibble [17 × 4]>\u001b[39m\n"
          ],
          "name": "stdout"
        }
      ]
    },
    {
      "cell_type": "markdown",
      "metadata": {
        "id": "MzwhQ05-0ZAl"
      },
      "source": [
        "Remember, we want to fit models to each subgroup. The `map` function applies a given function to a set of data in an iterative way -- so this would be a convenient approach. Some of the benefits of using `map` are that you do not have to write a series of for-loops (it's efficient/vectorized) and it makes your code easier to read (and thus error check). Now you can use `map` to fit a model to each subgroup like this:"
      ]
    },
    {
      "cell_type": "code",
      "metadata": {
        "colab": {
          "base_uri": "https://localhost:8080/"
        },
        "id": "Y7F2ZJdL0ZAl",
        "outputId": "0388f11a-a245-4f8c-ff26-7439ada4f703"
      },
      "source": [
        "dat  %>% \n",
        "    group_by(x1)  %>% \n",
        "    nest()  %>% \n",
        "    mutate(model_fit = map(data, function(data) lm(y_obs ~ x2, data=data)))  %>% \n",
        "    print()"
      ],
      "execution_count": 12,
      "outputs": [
        {
          "output_type": "stream",
          "text": [
            "\u001b[90m# A tibble: 17 x 3\u001b[39m\n",
            "\u001b[90m# Groups:   x1 [17]\u001b[39m\n",
            "      x1 data              model_fit\n",
            "   \u001b[3m\u001b[90m<dbl>\u001b[39m\u001b[23m \u001b[3m\u001b[90m<list>\u001b[39m\u001b[23m            \u001b[3m\u001b[90m<list>\u001b[39m\u001b[23m   \n",
            "\u001b[90m 1\u001b[39m  -\u001b[31m4\u001b[39m   \u001b[90m<tibble [17 × 4]>\u001b[39m \u001b[90m<lm>\u001b[39m     \n",
            "\u001b[90m 2\u001b[39m  -\u001b[31m3\u001b[39m\u001b[31m.\u001b[39m\u001b[31m5\u001b[39m \u001b[90m<tibble [17 × 4]>\u001b[39m \u001b[90m<lm>\u001b[39m     \n",
            "\u001b[90m 3\u001b[39m  -\u001b[31m3\u001b[39m   \u001b[90m<tibble [17 × 4]>\u001b[39m \u001b[90m<lm>\u001b[39m     \n",
            "\u001b[90m 4\u001b[39m  -\u001b[31m2\u001b[39m\u001b[31m.\u001b[39m\u001b[31m5\u001b[39m \u001b[90m<tibble [17 × 4]>\u001b[39m \u001b[90m<lm>\u001b[39m     \n",
            "\u001b[90m 5\u001b[39m  -\u001b[31m2\u001b[39m   \u001b[90m<tibble [17 × 4]>\u001b[39m \u001b[90m<lm>\u001b[39m     \n",
            "\u001b[90m 6\u001b[39m  -\u001b[31m1\u001b[39m\u001b[31m.\u001b[39m\u001b[31m5\u001b[39m \u001b[90m<tibble [17 × 4]>\u001b[39m \u001b[90m<lm>\u001b[39m     \n",
            "\u001b[90m 7\u001b[39m  -\u001b[31m1\u001b[39m   \u001b[90m<tibble [17 × 4]>\u001b[39m \u001b[90m<lm>\u001b[39m     \n",
            "\u001b[90m 8\u001b[39m  -\u001b[31m0\u001b[39m\u001b[31m.\u001b[39m\u001b[31m5\u001b[39m \u001b[90m<tibble [17 × 4]>\u001b[39m \u001b[90m<lm>\u001b[39m     \n",
            "\u001b[90m 9\u001b[39m   0   \u001b[90m<tibble [17 × 4]>\u001b[39m \u001b[90m<lm>\u001b[39m     \n",
            "\u001b[90m10\u001b[39m   0.5 \u001b[90m<tibble [17 × 4]>\u001b[39m \u001b[90m<lm>\u001b[39m     \n",
            "\u001b[90m11\u001b[39m   1   \u001b[90m<tibble [17 × 4]>\u001b[39m \u001b[90m<lm>\u001b[39m     \n",
            "\u001b[90m12\u001b[39m   1.5 \u001b[90m<tibble [17 × 4]>\u001b[39m \u001b[90m<lm>\u001b[39m     \n",
            "\u001b[90m13\u001b[39m   2   \u001b[90m<tibble [17 × 4]>\u001b[39m \u001b[90m<lm>\u001b[39m     \n",
            "\u001b[90m14\u001b[39m   2.5 \u001b[90m<tibble [17 × 4]>\u001b[39m \u001b[90m<lm>\u001b[39m     \n",
            "\u001b[90m15\u001b[39m   3   \u001b[90m<tibble [17 × 4]>\u001b[39m \u001b[90m<lm>\u001b[39m     \n",
            "\u001b[90m16\u001b[39m   3.5 \u001b[90m<tibble [17 × 4]>\u001b[39m \u001b[90m<lm>\u001b[39m     \n",
            "\u001b[90m17\u001b[39m   4   \u001b[90m<tibble [17 × 4]>\u001b[39m \u001b[90m<lm>\u001b[39m     \n"
          ],
          "name": "stdout"
        }
      ]
    },
    {
      "cell_type": "markdown",
      "metadata": {
        "id": "crBnstZi0ZAl"
      },
      "source": [
        "The resulting models are stored in each cell of the model_fit column. You can then extract the coefficients for each model:"
      ]
    },
    {
      "cell_type": "code",
      "metadata": {
        "colab": {
          "base_uri": "https://localhost:8080/"
        },
        "id": "311bwg-r0ZAm",
        "outputId": "b7be4a57-b410-458f-aca8-4ae999aaa97a"
      },
      "source": [
        "dat  %>% \n",
        "    group_by(x1)  %>% \n",
        "    nest()  %>% \n",
        "    mutate(model_fit = map(data, function(data) lm(y_obs ~ x2, data=data)),\n",
        "           coef = map(model_fit, function(fit) data.frame(name=names(fit$coefficients), beta=fit$coefficients)))  %>% \n",
        "    print()"
      ],
      "execution_count": 13,
      "outputs": [
        {
          "output_type": "stream",
          "text": [
            "\u001b[90m# A tibble: 17 x 4\u001b[39m\n",
            "\u001b[90m# Groups:   x1 [17]\u001b[39m\n",
            "      x1 data              model_fit coef            \n",
            "   \u001b[3m\u001b[90m<dbl>\u001b[39m\u001b[23m \u001b[3m\u001b[90m<list>\u001b[39m\u001b[23m            \u001b[3m\u001b[90m<list>\u001b[39m\u001b[23m    \u001b[3m\u001b[90m<list>\u001b[39m\u001b[23m          \n",
            "\u001b[90m 1\u001b[39m  -\u001b[31m4\u001b[39m   \u001b[90m<tibble [17 × 4]>\u001b[39m \u001b[90m<lm>\u001b[39m      \u001b[90m<df[,2] [2 × 2]>\u001b[39m\n",
            "\u001b[90m 2\u001b[39m  -\u001b[31m3\u001b[39m\u001b[31m.\u001b[39m\u001b[31m5\u001b[39m \u001b[90m<tibble [17 × 4]>\u001b[39m \u001b[90m<lm>\u001b[39m      \u001b[90m<df[,2] [2 × 2]>\u001b[39m\n",
            "\u001b[90m 3\u001b[39m  -\u001b[31m3\u001b[39m   \u001b[90m<tibble [17 × 4]>\u001b[39m \u001b[90m<lm>\u001b[39m      \u001b[90m<df[,2] [2 × 2]>\u001b[39m\n",
            "\u001b[90m 4\u001b[39m  -\u001b[31m2\u001b[39m\u001b[31m.\u001b[39m\u001b[31m5\u001b[39m \u001b[90m<tibble [17 × 4]>\u001b[39m \u001b[90m<lm>\u001b[39m      \u001b[90m<df[,2] [2 × 2]>\u001b[39m\n",
            "\u001b[90m 5\u001b[39m  -\u001b[31m2\u001b[39m   \u001b[90m<tibble [17 × 4]>\u001b[39m \u001b[90m<lm>\u001b[39m      \u001b[90m<df[,2] [2 × 2]>\u001b[39m\n",
            "\u001b[90m 6\u001b[39m  -\u001b[31m1\u001b[39m\u001b[31m.\u001b[39m\u001b[31m5\u001b[39m \u001b[90m<tibble [17 × 4]>\u001b[39m \u001b[90m<lm>\u001b[39m      \u001b[90m<df[,2] [2 × 2]>\u001b[39m\n",
            "\u001b[90m 7\u001b[39m  -\u001b[31m1\u001b[39m   \u001b[90m<tibble [17 × 4]>\u001b[39m \u001b[90m<lm>\u001b[39m      \u001b[90m<df[,2] [2 × 2]>\u001b[39m\n",
            "\u001b[90m 8\u001b[39m  -\u001b[31m0\u001b[39m\u001b[31m.\u001b[39m\u001b[31m5\u001b[39m \u001b[90m<tibble [17 × 4]>\u001b[39m \u001b[90m<lm>\u001b[39m      \u001b[90m<df[,2] [2 × 2]>\u001b[39m\n",
            "\u001b[90m 9\u001b[39m   0   \u001b[90m<tibble [17 × 4]>\u001b[39m \u001b[90m<lm>\u001b[39m      \u001b[90m<df[,2] [2 × 2]>\u001b[39m\n",
            "\u001b[90m10\u001b[39m   0.5 \u001b[90m<tibble [17 × 4]>\u001b[39m \u001b[90m<lm>\u001b[39m      \u001b[90m<df[,2] [2 × 2]>\u001b[39m\n",
            "\u001b[90m11\u001b[39m   1   \u001b[90m<tibble [17 × 4]>\u001b[39m \u001b[90m<lm>\u001b[39m      \u001b[90m<df[,2] [2 × 2]>\u001b[39m\n",
            "\u001b[90m12\u001b[39m   1.5 \u001b[90m<tibble [17 × 4]>\u001b[39m \u001b[90m<lm>\u001b[39m      \u001b[90m<df[,2] [2 × 2]>\u001b[39m\n",
            "\u001b[90m13\u001b[39m   2   \u001b[90m<tibble [17 × 4]>\u001b[39m \u001b[90m<lm>\u001b[39m      \u001b[90m<df[,2] [2 × 2]>\u001b[39m\n",
            "\u001b[90m14\u001b[39m   2.5 \u001b[90m<tibble [17 × 4]>\u001b[39m \u001b[90m<lm>\u001b[39m      \u001b[90m<df[,2] [2 × 2]>\u001b[39m\n",
            "\u001b[90m15\u001b[39m   3   \u001b[90m<tibble [17 × 4]>\u001b[39m \u001b[90m<lm>\u001b[39m      \u001b[90m<df[,2] [2 × 2]>\u001b[39m\n",
            "\u001b[90m16\u001b[39m   3.5 \u001b[90m<tibble [17 × 4]>\u001b[39m \u001b[90m<lm>\u001b[39m      \u001b[90m<df[,2] [2 × 2]>\u001b[39m\n",
            "\u001b[90m17\u001b[39m   4   \u001b[90m<tibble [17 × 4]>\u001b[39m \u001b[90m<lm>\u001b[39m      \u001b[90m<df[,2] [2 × 2]>\u001b[39m\n"
          ],
          "name": "stdout"
        }
      ]
    },
    {
      "cell_type": "markdown",
      "metadata": {
        "id": "c4XQqY500ZAm"
      },
      "source": [
        "They are again stored in a column called coef. If you want to then finally just get a data.frame with coefficients, you can unnest the results:"
      ]
    },
    {
      "cell_type": "code",
      "metadata": {
        "colab": {
          "base_uri": "https://localhost:8080/"
        },
        "id": "SsmPuJvD0ZAm",
        "outputId": "8961b906-05d5-4d66-d313-c6a5959ced9a"
      },
      "source": [
        "dat  %>% \n",
        "    group_by(x1)  %>% \n",
        "    nest()  %>% \n",
        "    mutate(model_fit = map(data, function(data) lm(y_obs ~ x2, data=data)),\n",
        "           coef = map(model_fit, function(fit) data.frame(name=names(fit$coefficients), beta=fit$coefficients))) %>%\n",
        "    unnest(coef) %>%\n",
        "    print()"
      ],
      "execution_count": 14,
      "outputs": [
        {
          "output_type": "stream",
          "text": [
            "\u001b[90m# A tibble: 34 x 5\u001b[39m\n",
            "\u001b[90m# Groups:   x1 [17]\u001b[39m\n",
            "      x1 data              model_fit name          beta\n",
            "   \u001b[3m\u001b[90m<dbl>\u001b[39m\u001b[23m \u001b[3m\u001b[90m<list>\u001b[39m\u001b[23m            \u001b[3m\u001b[90m<list>\u001b[39m\u001b[23m    \u001b[3m\u001b[90m<chr>\u001b[39m\u001b[23m        \u001b[3m\u001b[90m<dbl>\u001b[39m\u001b[23m\n",
            "\u001b[90m 1\u001b[39m  -\u001b[31m4\u001b[39m   \u001b[90m<tibble [17 × 4]>\u001b[39m \u001b[90m<lm>\u001b[39m      (Intercept) 0.103 \n",
            "\u001b[90m 2\u001b[39m  -\u001b[31m4\u001b[39m   \u001b[90m<tibble [17 × 4]>\u001b[39m \u001b[90m<lm>\u001b[39m      x2          0.107 \n",
            "\u001b[90m 3\u001b[39m  -\u001b[31m3\u001b[39m\u001b[31m.\u001b[39m\u001b[31m5\u001b[39m \u001b[90m<tibble [17 × 4]>\u001b[39m \u001b[90m<lm>\u001b[39m      (Intercept) 0.046\u001b[4m4\u001b[24m\n",
            "\u001b[90m 4\u001b[39m  -\u001b[31m3\u001b[39m\u001b[31m.\u001b[39m\u001b[31m5\u001b[39m \u001b[90m<tibble [17 × 4]>\u001b[39m \u001b[90m<lm>\u001b[39m      x2          0.113 \n",
            "\u001b[90m 5\u001b[39m  -\u001b[31m3\u001b[39m   \u001b[90m<tibble [17 × 4]>\u001b[39m \u001b[90m<lm>\u001b[39m      (Intercept) 0.078\u001b[4m2\u001b[24m\n",
            "\u001b[90m 6\u001b[39m  -\u001b[31m3\u001b[39m   \u001b[90m<tibble [17 × 4]>\u001b[39m \u001b[90m<lm>\u001b[39m      x2          0.121 \n",
            "\u001b[90m 7\u001b[39m  -\u001b[31m2\u001b[39m\u001b[31m.\u001b[39m\u001b[31m5\u001b[39m \u001b[90m<tibble [17 × 4]>\u001b[39m \u001b[90m<lm>\u001b[39m      (Intercept) 0.072\u001b[4m6\u001b[24m\n",
            "\u001b[90m 8\u001b[39m  -\u001b[31m2\u001b[39m\u001b[31m.\u001b[39m\u001b[31m5\u001b[39m \u001b[90m<tibble [17 × 4]>\u001b[39m \u001b[90m<lm>\u001b[39m      x2          0.097\u001b[4m1\u001b[24m\n",
            "\u001b[90m 9\u001b[39m  -\u001b[31m2\u001b[39m   \u001b[90m<tibble [17 × 4]>\u001b[39m \u001b[90m<lm>\u001b[39m      (Intercept) 0.086\u001b[4m1\u001b[24m\n",
            "\u001b[90m10\u001b[39m  -\u001b[31m2\u001b[39m   \u001b[90m<tibble [17 × 4]>\u001b[39m \u001b[90m<lm>\u001b[39m      x2          0.100 \n",
            "\u001b[90m# … with 24 more rows\u001b[39m\n"
          ],
          "name": "stdout"
        }
      ]
    },
    {
      "cell_type": "markdown",
      "metadata": {
        "id": "tteRNiZC0ZAm"
      },
      "source": [
        "You can find additional information on this approach here: http://omaymas.github.io/Climate_Change_ExpAnalysis/"
      ]
    },
    {
      "cell_type": "markdown",
      "metadata": {
        "id": "BUm4wLV1ibtZ"
      },
      "source": [
        "*notebook authored by Ven Popov and edited by Krista Bond, Charles Wu, and Patience Stevens*"
      ]
    }
  ]
}